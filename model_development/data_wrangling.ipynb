{
 "cells": [
  {
   "cell_type": "markdown",
   "metadata": {},
   "source": [
    "# DATA PREVIEW\n",
    "import dependencies"
   ]
  },
  {
   "cell_type": "code",
   "execution_count": 3,
   "metadata": {},
   "outputs": [],
   "source": [
    "import numpy as np\n",
    "import pandas as pd\n",
    "import os\n",
    "import matplotlib.pyplot as plt"
   ]
  },
  {
   "cell_type": "markdown",
   "metadata": {},
   "source": [
    "Import data\n",
    "\n",
    "import the precompiled data from the physionet database and format to a CSV for use in models."
   ]
  },
  {
   "cell_type": "code",
   "execution_count": 4,
   "metadata": {},
   "outputs": [
    {
     "ename": "FileNotFoundError",
     "evalue": "[Errno 2] No such file or directory: 'physionet.org/files/apnea-ecg/1.0.0/additional-information.txt'",
     "output_type": "error",
     "traceback": [
      "\u001b[0;31m---------------------------------------------------------------------------\u001b[0m",
      "\u001b[0;31mFileNotFoundError\u001b[0m                         Traceback (most recent call last)",
      "Cell \u001b[0;32mIn[4], line 1\u001b[0m\n\u001b[0;32m----> 1\u001b[0m extractdata \u001b[38;5;241m=\u001b[39m \u001b[38;5;28;43mopen\u001b[39;49m\u001b[43m(\u001b[49m\u001b[38;5;124;43m\"\u001b[39;49m\u001b[38;5;124;43mphysionet.org/files/apnea-ecg/1.0.0/additional-information.txt\u001b[39;49m\u001b[38;5;124;43m\"\u001b[39;49m\u001b[43m,\u001b[49m\u001b[43m \u001b[49m\u001b[38;5;124;43m\"\u001b[39;49m\u001b[38;5;124;43mr\u001b[39;49m\u001b[38;5;124;43m\"\u001b[39;49m\u001b[43m)\u001b[49m\n\u001b[1;32m      2\u001b[0m file \u001b[38;5;241m=\u001b[39m \u001b[38;5;28mopen\u001b[39m(\u001b[38;5;124m\"\u001b[39m\u001b[38;5;124mdata.csv\u001b[39m\u001b[38;5;124m\"\u001b[39m, \u001b[38;5;124m\"\u001b[39m\u001b[38;5;124mw\u001b[39m\u001b[38;5;124m\"\u001b[39m)\n\u001b[1;32m      3\u001b[0m extractdata\u001b[38;5;241m.\u001b[39mseek(\u001b[38;5;241m1271\u001b[39m)\n",
      "File \u001b[0;32m~/.local/lib/python3.12/site-packages/IPython/core/interactiveshell.py:324\u001b[0m, in \u001b[0;36m_modified_open\u001b[0;34m(file, *args, **kwargs)\u001b[0m\n\u001b[1;32m    317\u001b[0m \u001b[38;5;28;01mif\u001b[39;00m file \u001b[38;5;129;01min\u001b[39;00m {\u001b[38;5;241m0\u001b[39m, \u001b[38;5;241m1\u001b[39m, \u001b[38;5;241m2\u001b[39m}:\n\u001b[1;32m    318\u001b[0m     \u001b[38;5;28;01mraise\u001b[39;00m \u001b[38;5;167;01mValueError\u001b[39;00m(\n\u001b[1;32m    319\u001b[0m         \u001b[38;5;124mf\u001b[39m\u001b[38;5;124m\"\u001b[39m\u001b[38;5;124mIPython won\u001b[39m\u001b[38;5;124m'\u001b[39m\u001b[38;5;124mt let you open fd=\u001b[39m\u001b[38;5;132;01m{\u001b[39;00mfile\u001b[38;5;132;01m}\u001b[39;00m\u001b[38;5;124m by default \u001b[39m\u001b[38;5;124m\"\u001b[39m\n\u001b[1;32m    320\u001b[0m         \u001b[38;5;124m\"\u001b[39m\u001b[38;5;124mas it is likely to crash IPython. If you know what you are doing, \u001b[39m\u001b[38;5;124m\"\u001b[39m\n\u001b[1;32m    321\u001b[0m         \u001b[38;5;124m\"\u001b[39m\u001b[38;5;124myou can use builtins\u001b[39m\u001b[38;5;124m'\u001b[39m\u001b[38;5;124m open.\u001b[39m\u001b[38;5;124m\"\u001b[39m\n\u001b[1;32m    322\u001b[0m     )\n\u001b[0;32m--> 324\u001b[0m \u001b[38;5;28;01mreturn\u001b[39;00m \u001b[43mio_open\u001b[49m\u001b[43m(\u001b[49m\u001b[43mfile\u001b[49m\u001b[43m,\u001b[49m\u001b[43m \u001b[49m\u001b[38;5;241;43m*\u001b[39;49m\u001b[43margs\u001b[49m\u001b[43m,\u001b[49m\u001b[43m \u001b[49m\u001b[38;5;241;43m*\u001b[39;49m\u001b[38;5;241;43m*\u001b[39;49m\u001b[43mkwargs\u001b[49m\u001b[43m)\u001b[49m\n",
      "\u001b[0;31mFileNotFoundError\u001b[0m: [Errno 2] No such file or directory: 'physionet.org/files/apnea-ecg/1.0.0/additional-information.txt'"
     ]
    }
   ],
   "source": [
    "extractdata = open(\"physionet.org/files/apnea-ecg/1.0.0/additional-information.txt\", \"r\")\n",
    "file = open(\"data.csv\", \"w\")\n",
    "extractdata.seek(1271)\n",
    "for i in extractdata.readlines(1):\n",
    "    data = i.replace('\\t', ',')\n",
    "    print(data)\n",
    "    file.write(data)\n",
    "extractdata.seek(1385)\n",
    "for i in extractdata.readlines():\n",
    "    data = i.replace('\\t\\t', '')\n",
    "    redata = data.replace('\\t', ',')\n",
    "    print(redata)\n",
    "    file.write(redata)\n",
    "file.close()"
   ]
  },
  {
   "cell_type": "markdown",
   "metadata": {},
   "source": [
    "Display apnea data"
   ]
  },
  {
   "cell_type": "code",
   "execution_count": null,
   "metadata": {},
   "outputs": [
    {
     "data": {
      "application/vnd.microsoft.datawrangler.viewer.v0+json": {
       "columns": [
        {
         "name": "index",
         "rawType": "int64",
         "type": "integer"
        },
        {
         "name": "Record",
         "rawType": "object",
         "type": "string"
        },
        {
         "name": "Length",
         "rawType": "int64",
         "type": "integer"
        },
        {
         "name": "non-apn",
         "rawType": "int64",
         "type": "integer"
        },
        {
         "name": "apnea",
         "rawType": "int64",
         "type": "integer"
        },
        {
         "name": "hours",
         "rawType": "int64",
         "type": "integer"
        },
        {
         "name": "AI",
         "rawType": "float64",
         "type": "float"
        },
        {
         "name": "HI",
         "rawType": "float64",
         "type": "float"
        },
        {
         "name": "AHI",
         "rawType": "float64",
         "type": "float"
        },
        {
         "name": "Age",
         "rawType": "int64",
         "type": "integer"
        },
        {
         "name": "Sex",
         "rawType": "object",
         "type": "string"
        },
        {
         "name": "height",
         "rawType": "int64",
         "type": "integer"
        },
        {
         "name": "weight",
         "rawType": "int64",
         "type": "integer"
        }
       ],
       "conversionMethod": "pd.DataFrame",
       "ref": "07bccbd5-dfe7-4759-a813-9113b200e59c",
       "rows": [
        [
         "0",
         "a01",
         "490",
         "20",
         "470",
         "9",
         "12.5",
         "57.1",
         "69.6",
         "51",
         "M",
         "175",
         "102"
        ],
        [
         "1",
         "a02",
         "529",
         "109",
         "420",
         "9",
         "57.2",
         "12.3",
         "69.5",
         "38",
         "M",
         "180",
         "120"
        ],
        [
         "2",
         "a03",
         "520",
         "274",
         "246",
         "9",
         "38.4",
         "0.7",
         "39.1",
         "54",
         "M",
         "168",
         "80"
        ],
        [
         "3",
         "a04",
         "493",
         "40",
         "453",
         "9",
         "73.4",
         "4.0",
         "77.4",
         "52",
         "M",
         "173",
         "121"
        ],
        [
         "4",
         "a05",
         "455",
         "179",
         "276",
         "8",
         "35.0",
         "6.0",
         "41.0",
         "58",
         "M",
         "176",
         "78"
        ]
       ],
       "shape": {
        "columns": 12,
        "rows": 5
       }
      },
      "text/html": [
       "<div>\n",
       "<style scoped>\n",
       "    .dataframe tbody tr th:only-of-type {\n",
       "        vertical-align: middle;\n",
       "    }\n",
       "\n",
       "    .dataframe tbody tr th {\n",
       "        vertical-align: top;\n",
       "    }\n",
       "\n",
       "    .dataframe thead th {\n",
       "        text-align: right;\n",
       "    }\n",
       "</style>\n",
       "<table border=\"1\" class=\"dataframe\">\n",
       "  <thead>\n",
       "    <tr style=\"text-align: right;\">\n",
       "      <th></th>\n",
       "      <th>Record</th>\n",
       "      <th>Length</th>\n",
       "      <th>non-apn</th>\n",
       "      <th>apnea</th>\n",
       "      <th>hours</th>\n",
       "      <th>AI</th>\n",
       "      <th>HI</th>\n",
       "      <th>AHI</th>\n",
       "      <th>Age</th>\n",
       "      <th>Sex</th>\n",
       "      <th>height</th>\n",
       "      <th>weight</th>\n",
       "    </tr>\n",
       "  </thead>\n",
       "  <tbody>\n",
       "    <tr>\n",
       "      <th>0</th>\n",
       "      <td>a01</td>\n",
       "      <td>490</td>\n",
       "      <td>20</td>\n",
       "      <td>470</td>\n",
       "      <td>9</td>\n",
       "      <td>12.5</td>\n",
       "      <td>57.1</td>\n",
       "      <td>69.6</td>\n",
       "      <td>51</td>\n",
       "      <td>M</td>\n",
       "      <td>175</td>\n",
       "      <td>102</td>\n",
       "    </tr>\n",
       "    <tr>\n",
       "      <th>1</th>\n",
       "      <td>a02</td>\n",
       "      <td>529</td>\n",
       "      <td>109</td>\n",
       "      <td>420</td>\n",
       "      <td>9</td>\n",
       "      <td>57.2</td>\n",
       "      <td>12.3</td>\n",
       "      <td>69.5</td>\n",
       "      <td>38</td>\n",
       "      <td>M</td>\n",
       "      <td>180</td>\n",
       "      <td>120</td>\n",
       "    </tr>\n",
       "    <tr>\n",
       "      <th>2</th>\n",
       "      <td>a03</td>\n",
       "      <td>520</td>\n",
       "      <td>274</td>\n",
       "      <td>246</td>\n",
       "      <td>9</td>\n",
       "      <td>38.4</td>\n",
       "      <td>0.7</td>\n",
       "      <td>39.1</td>\n",
       "      <td>54</td>\n",
       "      <td>M</td>\n",
       "      <td>168</td>\n",
       "      <td>80</td>\n",
       "    </tr>\n",
       "    <tr>\n",
       "      <th>3</th>\n",
       "      <td>a04</td>\n",
       "      <td>493</td>\n",
       "      <td>40</td>\n",
       "      <td>453</td>\n",
       "      <td>9</td>\n",
       "      <td>73.4</td>\n",
       "      <td>4.0</td>\n",
       "      <td>77.4</td>\n",
       "      <td>52</td>\n",
       "      <td>M</td>\n",
       "      <td>173</td>\n",
       "      <td>121</td>\n",
       "    </tr>\n",
       "    <tr>\n",
       "      <th>4</th>\n",
       "      <td>a05</td>\n",
       "      <td>455</td>\n",
       "      <td>179</td>\n",
       "      <td>276</td>\n",
       "      <td>8</td>\n",
       "      <td>35.0</td>\n",
       "      <td>6.0</td>\n",
       "      <td>41.0</td>\n",
       "      <td>58</td>\n",
       "      <td>M</td>\n",
       "      <td>176</td>\n",
       "      <td>78</td>\n",
       "    </tr>\n",
       "  </tbody>\n",
       "</table>\n",
       "</div>"
      ],
      "text/plain": [
       "  Record  Length  non-apn  apnea  hours    AI    HI   AHI  Age Sex  height  \\\n",
       "0    a01     490       20    470      9  12.5  57.1  69.6   51   M     175   \n",
       "1    a02     529      109    420      9  57.2  12.3  69.5   38   M     180   \n",
       "2    a03     520      274    246      9  38.4   0.7  39.1   54   M     168   \n",
       "3    a04     493       40    453      9  73.4   4.0  77.4   52   M     173   \n",
       "4    a05     455      179    276      8  35.0   6.0  41.0   58   M     176   \n",
       "\n",
       "   weight  \n",
       "0     102  \n",
       "1     120  \n",
       "2      80  \n",
       "3     121  \n",
       "4      78  "
      ]
     },
     "execution_count": 3,
     "metadata": {},
     "output_type": "execute_result"
    }
   ],
   "source": [
    "data_frame = pd.read_csv(\"data.csv\")\n",
    "data_frame.head()"
   ]
  },
  {
   "cell_type": "markdown",
   "metadata": {},
   "source": [
    "plot apnea data"
   ]
  },
  {
   "cell_type": "code",
   "execution_count": null,
   "metadata": {},
   "outputs": [
    {
     "data": {
      "text/plain": [
       "<Axes: >"
      ]
     },
     "execution_count": 4,
     "metadata": {},
     "output_type": "execute_result"
    },
    {
     "data": {
      "image/png": "[encoded data removed]",
      "text/plain": [
       "<Figure size 640x480 with 1 Axes>"
      ]
     },
     "metadata": {},
     "output_type": "display_data"
    }
   ],
   "source": [
    "data_frame.plot()"
   ]
  },
  {
   "cell_type": "markdown",
   "metadata": {},
   "source": [
    "Display distribution of apnea data"
   ]
  },
  {
   "cell_type": "code",
   "execution_count": null,
   "metadata": {},
   "outputs": [
    {
     "data": {
      "image/png": "[encoded data removed]",
      "text/plain": [
       "<Figure size 640x480 with 1 Axes>"
      ]
     },
     "metadata": {},
     "output_type": "display_data"
    }
   ],
   "source": [
    "plt.hist(data_frame['apnea'])\n",
    "plt.title(f\"Histogram of {data_frame['apnea'].name}\")\n",
    "plt.ylabel('Count')\n",
    "plt.xlabel(f'{data_frame[\"apnea\"].name}')\n",
    "plt.show()"
   ]
  },
  {
   "cell_type": "markdown",
   "metadata": {},
   "source": [
    "# DATA WRANGLING\n",
    "import dependencies"
   ]
  },
  {
   "cell_type": "code",
   "execution_count": null,
   "metadata": {},
   "outputs": [],
   "source": [
    "import pandas as pd"
   ]
  },
  {
   "cell_type": "markdown",
   "metadata": {},
   "source": [
    "read data to variable"
   ]
  },
  {
   "cell_type": "code",
   "execution_count": null,
   "metadata": {},
   "outputs": [],
   "source": [
    "data_frame = pd.read_csv('data.csv')"
   ]
  },
  {
   "cell_type": "markdown",
   "metadata": {},
   "source": [
    "check if data values are null"
   ]
  },
  {
   "cell_type": "code",
   "execution_count": null,
   "metadata": {},
   "outputs": [
    {
     "data": {
      "text/plain": [
       "Record     0\n",
       "Length     0\n",
       "non-apn    0\n",
       "apnea      0\n",
       "hours      0\n",
       "AI         0\n",
       "HI         0\n",
       "AHI        0\n",
       "Age        0\n",
       "Sex        0\n",
       "height     0\n",
       "weight     0\n",
       "dtype: int64"
      ]
     },
     "execution_count": 8,
     "metadata": {},
     "output_type": "execute_result"
    }
   ],
   "source": [
    "data_frame.isnull().sum()"
   ]
  },
  {
   "cell_type": "markdown",
   "metadata": {},
   "source": [
    "check if data values contain duplicates"
   ]
  },
  {
   "cell_type": "code",
   "execution_count": null,
   "metadata": {},
   "outputs": [
    {
     "data": {
      "text/plain": [
       "np.int64(0)"
      ]
     },
     "execution_count": 9,
     "metadata": {},
     "output_type": "execute_result"
    }
   ],
   "source": [
    "data_frame.duplicated().sum()"
   ]
  },
  {
   "cell_type": "markdown",
   "metadata": {},
   "source": [
    "identify unique sexes"
   ]
  },
  {
   "cell_type": "code",
   "execution_count": null,
   "metadata": {},
   "outputs": [
    {
     "data": {
      "text/plain": [
       "array(['M', 'F'], dtype=object)"
      ]
     },
     "execution_count": 10,
     "metadata": {},
     "output_type": "execute_result"
    }
   ],
   "source": [
    "data_frame['Sex'].unique()"
   ]
  },
  {
   "cell_type": "markdown",
   "metadata": {},
   "source": [
    "convert height from centimeters to meters"
   ]
  },
  {
   "cell_type": "code",
   "execution_count": null,
   "metadata": {},
   "outputs": [
    {
     "name": "stdout",
     "output_type": "stream",
     "text": [
      "0     1.75\n",
      "1     1.80\n",
      "2     1.68\n",
      "3     1.73\n",
      "4     1.76\n",
      "      ... \n",
      "65    1.83\n",
      "66    1.83\n",
      "67    1.69\n",
      "68    1.68\n",
      "69    1.84\n",
      "Name: height, Length: 70, dtype: float64\n"
     ]
    }
   ],
   "source": [
    "data_frame['height'] = data_frame['height']/100\n",
    "print(data_frame['height'])"
   ]
  },
  {
   "cell_type": "markdown",
   "metadata": {},
   "source": [
    "generate BMI from height and weight values"
   ]
  },
  {
   "cell_type": "code",
   "execution_count": null,
   "metadata": {},
   "outputs": [
    {
     "name": "stdout",
     "output_type": "stream",
     "text": [
      "0     33.306122\n",
      "1     37.037037\n",
      "2     28.344671\n",
      "3     40.429015\n",
      "4     25.180785\n",
      "        ...    \n",
      "65    29.860551\n",
      "66    29.860551\n",
      "67    19.957284\n",
      "68    19.841270\n",
      "69    21.857278\n",
      "Name: BMI, Length: 70, dtype: float64\n"
     ]
    }
   ],
   "source": [
    "data_frame['BMI'] = data_frame['weight'] / (data_frame['height'] * data_frame['height'])\n",
    "print(data_frame['BMI'])"
   ]
  },
  {
   "cell_type": "markdown",
   "metadata": {},
   "source": [
    "describe AHI distribution"
   ]
  },
  {
   "cell_type": "code",
   "execution_count": null,
   "metadata": {},
   "outputs": [
    {
     "name": "stdout",
     "output_type": "stream",
     "text": [
      "count    70.000000\n",
      "mean     28.047571\n",
      "std      27.537779\n",
      "min       0.000000\n",
      "25%       0.130000\n",
      "50%      21.000000\n",
      "75%      42.750000\n",
      "max      93.500000\n",
      "Name: AHI, dtype: float64\n",
      "Outliers are a BP above 106.67999999999999 or below -63.79999999999999\n"
     ]
    }
   ],
   "source": [
    "print(data_frame['AHI'].describe())\n",
    "Q1 = data_frame['AHI'].quantile(0.25)\n",
    "Q3 = data_frame['AHI'].quantile(0.75)\n",
    "IQR = Q3 - Q1\n",
    "print(f'Outliers are a BP above {Q3 + IQR * 1.5} or below {Q1 - IQR * 1.5}')"
   ]
  },
  {
   "cell_type": "markdown",
   "metadata": {},
   "source": [
    "describe BMI distribution"
   ]
  },
  {
   "cell_type": "code",
   "execution_count": null,
   "metadata": {},
   "outputs": [
    {
     "name": "stdout",
     "output_type": "stream",
     "text": [
      "count    70.000000\n",
      "mean     28.013456\n",
      "std       6.481346\n",
      "min      19.198960\n",
      "25%      21.950224\n",
      "50%      27.440599\n",
      "75%      33.172600\n",
      "max      45.328720\n",
      "Name: BMI, dtype: float64\n",
      "Outliers are a BP above 50.0061644474454 or below 5.116659564324603\n"
     ]
    }
   ],
   "source": [
    "print(data_frame['BMI'].describe())\n",
    "Q1 = data_frame['BMI'].quantile(0.25)\n",
    "Q3 = data_frame['BMI'].quantile(0.75)\n",
    "IQR = Q3 - Q1\n",
    "print(f'Outliers are a BP above {Q3 + IQR * 1.5} or below {Q1 - IQR * 1.5}')"
   ]
  },
  {
   "cell_type": "markdown",
   "metadata": {},
   "source": [
    "scale AHI features to decimal values between 0 and 1"
   ]
  },
  {
   "cell_type": "code",
   "execution_count": null,
   "metadata": {},
   "outputs": [
    {
     "data": {
      "application/vnd.microsoft.datawrangler.viewer.v0+json": {
       "columns": [
        {
         "name": "index",
         "rawType": "object",
         "type": "string"
        },
        {
         "name": "Length",
         "rawType": "float64",
         "type": "float"
        },
        {
         "name": "non-apn",
         "rawType": "float64",
         "type": "float"
        },
        {
         "name": "apnea",
         "rawType": "float64",
         "type": "float"
        },
        {
         "name": "hours",
         "rawType": "float64",
         "type": "float"
        },
        {
         "name": "AI",
         "rawType": "float64",
         "type": "float"
        },
        {
         "name": "HI",
         "rawType": "float64",
         "type": "float"
        },
        {
         "name": "AHI",
         "rawType": "float64",
         "type": "float"
        },
        {
         "name": "Age",
         "rawType": "float64",
         "type": "float"
        },
        {
         "name": "height",
         "rawType": "float64",
         "type": "float"
        },
        {
         "name": "weight",
         "rawType": "float64",
         "type": "float"
        },
        {
         "name": "BMI",
         "rawType": "float64",
         "type": "float"
        }
       ],
       "conversionMethod": "pd.DataFrame",
       "ref": "1adc0546-32bc-483c-b267-e2a7f7d4e88a",
       "rows": [
        [
         "count",
         "70.0",
         "70.0",
         "70.0",
         "70.0",
         "70.0",
         "70.0",
         "70.0",
         "70.0",
         "70.0",
         "70.0",
         "70.0"
        ],
        [
         "mean",
         "491.8285714285714",
         "305.1714285714286",
         "186.65714285714284",
         "5.085714285714285",
         "21.858000000000004",
         "6.189571428571429",
         "0.2804757142857142",
         "45.142857142857146",
         "1.7584285714285715",
         "86.75714285714285",
         "28.013455778221978"
        ],
        [
         "std",
         "31.576441148596306",
         "156.57169228189548",
         "172.27538501356918",
         "3.899992036940429",
         "24.10122707802793",
         "9.423091654834082",
         "0.27537779026760817",
         "10.837783764950185",
         "0.05588901305747226",
         "20.730454887299715",
         "6.481345735714141"
        ],
        [
         "min",
         "401.0",
         "11.0",
         "0.0",
         "0.0",
         "0.0",
         "0.0",
         "0.0",
         "27.0",
         "1.58",
         "53.0",
         "19.198960302457465"
        ],
        [
         "25%",
         "470.25",
         "180.75",
         "3.25",
         "0.0",
         "0.03",
         "0.0",
         "0.0013",
         "38.0",
         "1.7149999999999999",
         "69.75",
         "21.9502238954949"
        ],
        [
         "50%",
         "496.0",
         "320.5",
         "178.0",
         "6.5",
         "14.2",
         "3.5",
         "0.21",
         "44.0",
         "1.77",
         "85.0",
         "27.44059917355372"
        ],
        [
         "75%",
         "511.0",
         "453.25",
         "323.5",
         "9.0",
         "34.75",
         "8.9",
         "0.4275",
         "53.75",
         "1.7975",
         "102.0",
         "33.1726001162751"
        ],
        [
         "max",
         "578.0",
         "535.0",
         "534.0",
         "10.0",
         "86.8",
         "57.1",
         "0.935",
         "63.0",
         "1.84",
         "135.0",
         "45.3287197231834"
        ]
       ],
       "shape": {
        "columns": 11,
        "rows": 8
       }
      },
      "text/html": [
       "<div>\n",
       "<style scoped>\n",
       "    .dataframe tbody tr th:only-of-type {\n",
       "        vertical-align: middle;\n",
       "    }\n",
       "\n",
       "    .dataframe tbody tr th {\n",
       "        vertical-align: top;\n",
       "    }\n",
       "\n",
       "    .dataframe thead th {\n",
       "        text-align: right;\n",
       "    }\n",
       "</style>\n",
       "<table border=\"1\" class=\"dataframe\">\n",
       "  <thead>\n",
       "    <tr style=\"text-align: right;\">\n",
       "      <th></th>\n",
       "      <th>Length</th>\n",
       "      <th>non-apn</th>\n",
       "      <th>apnea</th>\n",
       "      <th>hours</th>\n",
       "      <th>AI</th>\n",
       "      <th>HI</th>\n",
       "      <th>AHI</th>\n",
       "      <th>Age</th>\n",
       "      <th>height</th>\n",
       "      <th>weight</th>\n",
       "      <th>BMI</th>\n",
       "    </tr>\n",
       "  </thead>\n",
       "  <tbody>\n",
       "    <tr>\n",
       "      <th>count</th>\n",
       "      <td>70.000000</td>\n",
       "      <td>70.000000</td>\n",
       "      <td>70.000000</td>\n",
       "      <td>70.000000</td>\n",
       "      <td>70.000000</td>\n",
       "      <td>70.000000</td>\n",
       "      <td>70.000000</td>\n",
       "      <td>70.000000</td>\n",
       "      <td>70.000000</td>\n",
       "      <td>70.000000</td>\n",
       "      <td>70.000000</td>\n",
       "    </tr>\n",
       "    <tr>\n",
       "      <th>mean</th>\n",
       "      <td>491.828571</td>\n",
       "      <td>305.171429</td>\n",
       "      <td>186.657143</td>\n",
       "      <td>5.085714</td>\n",
       "      <td>21.858000</td>\n",
       "      <td>6.189571</td>\n",
       "      <td>0.280476</td>\n",
       "      <td>45.142857</td>\n",
       "      <td>1.758429</td>\n",
       "      <td>86.757143</td>\n",
       "      <td>28.013456</td>\n",
       "    </tr>\n",
       "    <tr>\n",
       "      <th>std</th>\n",
       "      <td>31.576441</td>\n",
       "      <td>156.571692</td>\n",
       "      <td>172.275385</td>\n",
       "      <td>3.899992</td>\n",
       "      <td>24.101227</td>\n",
       "      <td>9.423092</td>\n",
       "      <td>0.275378</td>\n",
       "      <td>10.837784</td>\n",
       "      <td>0.055889</td>\n",
       "      <td>20.730455</td>\n",
       "      <td>6.481346</td>\n",
       "    </tr>\n",
       "    <tr>\n",
       "      <th>min</th>\n",
       "      <td>401.000000</td>\n",
       "      <td>11.000000</td>\n",
       "      <td>0.000000</td>\n",
       "      <td>0.000000</td>\n",
       "      <td>0.000000</td>\n",
       "      <td>0.000000</td>\n",
       "      <td>0.000000</td>\n",
       "      <td>27.000000</td>\n",
       "      <td>1.580000</td>\n",
       "      <td>53.000000</td>\n",
       "      <td>19.198960</td>\n",
       "    </tr>\n",
       "    <tr>\n",
       "      <th>25%</th>\n",
       "      <td>470.250000</td>\n",
       "      <td>180.750000</td>\n",
       "      <td>3.250000</td>\n",
       "      <td>0.000000</td>\n",
       "      <td>0.030000</td>\n",
       "      <td>0.000000</td>\n",
       "      <td>0.001300</td>\n",
       "      <td>38.000000</td>\n",
       "      <td>1.715000</td>\n",
       "      <td>69.750000</td>\n",
       "      <td>21.950224</td>\n",
       "    </tr>\n",
       "    <tr>\n",
       "      <th>50%</th>\n",
       "      <td>496.000000</td>\n",
       "      <td>320.500000</td>\n",
       "      <td>178.000000</td>\n",
       "      <td>6.500000</td>\n",
       "      <td>14.200000</td>\n",
       "      <td>3.500000</td>\n",
       "      <td>0.210000</td>\n",
       "      <td>44.000000</td>\n",
       "      <td>1.770000</td>\n",
       "      <td>85.000000</td>\n",
       "      <td>27.440599</td>\n",
       "    </tr>\n",
       "    <tr>\n",
       "      <th>75%</th>\n",
       "      <td>511.000000</td>\n",
       "      <td>453.250000</td>\n",
       "      <td>323.500000</td>\n",
       "      <td>9.000000</td>\n",
       "      <td>34.750000</td>\n",
       "      <td>8.900000</td>\n",
       "      <td>0.427500</td>\n",
       "      <td>53.750000</td>\n",
       "      <td>1.797500</td>\n",
       "      <td>102.000000</td>\n",
       "      <td>33.172600</td>\n",
       "    </tr>\n",
       "    <tr>\n",
       "      <th>max</th>\n",
       "      <td>578.000000</td>\n",
       "      <td>535.000000</td>\n",
       "      <td>534.000000</td>\n",
       "      <td>10.000000</td>\n",
       "      <td>86.800000</td>\n",
       "      <td>57.100000</td>\n",
       "      <td>0.935000</td>\n",
       "      <td>63.000000</td>\n",
       "      <td>1.840000</td>\n",
       "      <td>135.000000</td>\n",
       "      <td>45.328720</td>\n",
       "    </tr>\n",
       "  </tbody>\n",
       "</table>\n",
       "</div>"
      ],
      "text/plain": [
       "           Length     non-apn       apnea      hours         AI         HI  \\\n",
       "count   70.000000   70.000000   70.000000  70.000000  70.000000  70.000000   \n",
       "mean   491.828571  305.171429  186.657143   5.085714  21.858000   6.189571   \n",
       "std     31.576441  156.571692  172.275385   3.899992  24.101227   9.423092   \n",
       "min    401.000000   11.000000    0.000000   0.000000   0.000000   0.000000   \n",
       "25%    470.250000  180.750000    3.250000   0.000000   0.030000   0.000000   \n",
       "50%    496.000000  320.500000  178.000000   6.500000  14.200000   3.500000   \n",
       "75%    511.000000  453.250000  323.500000   9.000000  34.750000   8.900000   \n",
       "max    578.000000  535.000000  534.000000  10.000000  86.800000  57.100000   \n",
       "\n",
       "             AHI        Age     height      weight        BMI  \n",
       "count  70.000000  70.000000  70.000000   70.000000  70.000000  \n",
       "mean    0.280476  45.142857   1.758429   86.757143  28.013456  \n",
       "std     0.275378  10.837784   0.055889   20.730455   6.481346  \n",
       "min     0.000000  27.000000   1.580000   53.000000  19.198960  \n",
       "25%     0.001300  38.000000   1.715000   69.750000  21.950224  \n",
       "50%     0.210000  44.000000   1.770000   85.000000  27.440599  \n",
       "75%     0.427500  53.750000   1.797500  102.000000  33.172600  \n",
       "max     0.935000  63.000000   1.840000  135.000000  45.328720  "
      ]
     },
     "execution_count": 15,
     "metadata": {},
     "output_type": "execute_result"
    }
   ],
   "source": [
    "scale_feature = 'AHI'\n",
    "\n",
    "#the minimum value with space for outliers\n",
    "MIN_AHI = 0\n",
    "\n",
    "#the maximum value with space for outliers\n",
    "MAX_AHI = 100\n",
    "\n",
    "#scale features\n",
    "data_frame[scale_feature] = [(X - MIN_AHI) / (MAX_AHI - MIN_AHI) for X in data_frame[scale_feature]]\n",
    "\n",
    "data_frame.describe()"
   ]
  },
  {
   "cell_type": "markdown",
   "metadata": {},
   "source": [
    "scale BMI features to decimal values between 0 and 1"
   ]
  },
  {
   "cell_type": "code",
   "execution_count": null,
   "metadata": {},
   "outputs": [
    {
     "data": {
      "application/vnd.microsoft.datawrangler.viewer.v0+json": {
       "columns": [
        {
         "name": "index",
         "rawType": "object",
         "type": "string"
        },
        {
         "name": "Length",
         "rawType": "float64",
         "type": "float"
        },
        {
         "name": "non-apn",
         "rawType": "float64",
         "type": "float"
        },
        {
         "name": "apnea",
         "rawType": "float64",
         "type": "float"
        },
        {
         "name": "hours",
         "rawType": "float64",
         "type": "float"
        },
        {
         "name": "AI",
         "rawType": "float64",
         "type": "float"
        },
        {
         "name": "HI",
         "rawType": "float64",
         "type": "float"
        },
        {
         "name": "AHI",
         "rawType": "float64",
         "type": "float"
        },
        {
         "name": "Age",
         "rawType": "float64",
         "type": "float"
        },
        {
         "name": "height",
         "rawType": "float64",
         "type": "float"
        },
        {
         "name": "weight",
         "rawType": "float64",
         "type": "float"
        },
        {
         "name": "BMI",
         "rawType": "float64",
         "type": "float"
        }
       ],
       "conversionMethod": "pd.DataFrame",
       "ref": "b8ffba55-d41f-479c-a8b4-5e830f944b78",
       "rows": [
        [
         "count",
         "70.0",
         "70.0",
         "70.0",
         "70.0",
         "70.0",
         "70.0",
         "70.0",
         "70.0",
         "70.0",
         "70.0",
         "70.0"
        ],
        [
         "mean",
         "491.8285714285714",
         "305.1714285714286",
         "186.65714285714284",
         "5.085714285714285",
         "21.858000000000004",
         "6.189571428571429",
         "0.2804757142857142",
         "45.142857142857146",
         "1.7584285714285715",
         "86.75714285714285",
         "0.35527276703941857"
        ],
        [
         "std",
         "31.576441148596306",
         "156.57169228189548",
         "172.27538501356918",
         "3.899992036940429",
         "24.10122707802793",
         "9.423091654834082",
         "0.27537779026760817",
         "10.837783764950185",
         "0.05588901305747226",
         "20.730454887299715",
         "0.20907566889400453"
        ],
        [
         "min",
         "401.0",
         "11.0",
         "0.0",
         "0.0",
         "0.0",
         "0.0",
         "0.0",
         "27.0",
         "1.58",
         "53.0",
         "0.07093420330507952"
        ],
        [
         "25%",
         "470.25",
         "180.75",
         "3.25",
         "0.0",
         "0.03",
         "0.0",
         "0.0013",
         "38.0",
         "1.7149999999999999",
         "69.75",
         "0.15968464179015807"
        ],
        [
         "50%",
         "496.0",
         "320.5",
         "178.0",
         "6.5",
         "14.2",
         "3.5",
         "0.21",
         "44.0",
         "1.77",
         "85.0",
         "0.3367935217275394"
        ],
        [
         "75%",
         "511.0",
         "453.25",
         "323.5",
         "9.0",
         "34.75",
         "8.9",
         "0.4275",
         "53.75",
         "1.7975",
         "102.0",
         "0.521696777944358"
        ],
        [
         "max",
         "578.0",
         "535.0",
         "534.0",
         "10.0",
         "86.8",
         "57.1",
         "0.935",
         "63.0",
         "1.84",
         "135.0",
         "0.913829668489787"
        ]
       ],
       "shape": {
        "columns": 11,
        "rows": 8
       }
      },
      "text/html": [
       "<div>\n",
       "<style scoped>\n",
       "    .dataframe tbody tr th:only-of-type {\n",
       "        vertical-align: middle;\n",
       "    }\n",
       "\n",
       "    .dataframe tbody tr th {\n",
       "        vertical-align: top;\n",
       "    }\n",
       "\n",
       "    .dataframe thead th {\n",
       "        text-align: right;\n",
       "    }\n",
       "</style>\n",
       "<table border=\"1\" class=\"dataframe\">\n",
       "  <thead>\n",
       "    <tr style=\"text-align: right;\">\n",
       "      <th></th>\n",
       "      <th>Length</th>\n",
       "      <th>non-apn</th>\n",
       "      <th>apnea</th>\n",
       "      <th>hours</th>\n",
       "      <th>AI</th>\n",
       "      <th>HI</th>\n",
       "      <th>AHI</th>\n",
       "      <th>Age</th>\n",
       "      <th>height</th>\n",
       "      <th>weight</th>\n",
       "      <th>BMI</th>\n",
       "    </tr>\n",
       "  </thead>\n",
       "  <tbody>\n",
       "    <tr>\n",
       "      <th>count</th>\n",
       "      <td>70.000000</td>\n",
       "      <td>70.000000</td>\n",
       "      <td>70.000000</td>\n",
       "      <td>70.000000</td>\n",
       "      <td>70.000000</td>\n",
       "      <td>70.000000</td>\n",
       "      <td>70.000000</td>\n",
       "      <td>70.000000</td>\n",
       "      <td>70.000000</td>\n",
       "      <td>70.000000</td>\n",
       "      <td>70.000000</td>\n",
       "    </tr>\n",
       "    <tr>\n",
       "      <th>mean</th>\n",
       "      <td>491.828571</td>\n",
       "      <td>305.171429</td>\n",
       "      <td>186.657143</td>\n",
       "      <td>5.085714</td>\n",
       "      <td>21.858000</td>\n",
       "      <td>6.189571</td>\n",
       "      <td>0.280476</td>\n",
       "      <td>45.142857</td>\n",
       "      <td>1.758429</td>\n",
       "      <td>86.757143</td>\n",
       "      <td>0.355273</td>\n",
       "    </tr>\n",
       "    <tr>\n",
       "      <th>std</th>\n",
       "      <td>31.576441</td>\n",
       "      <td>156.571692</td>\n",
       "      <td>172.275385</td>\n",
       "      <td>3.899992</td>\n",
       "      <td>24.101227</td>\n",
       "      <td>9.423092</td>\n",
       "      <td>0.275378</td>\n",
       "      <td>10.837784</td>\n",
       "      <td>0.055889</td>\n",
       "      <td>20.730455</td>\n",
       "      <td>0.209076</td>\n",
       "    </tr>\n",
       "    <tr>\n",
       "      <th>min</th>\n",
       "      <td>401.000000</td>\n",
       "      <td>11.000000</td>\n",
       "      <td>0.000000</td>\n",
       "      <td>0.000000</td>\n",
       "      <td>0.000000</td>\n",
       "      <td>0.000000</td>\n",
       "      <td>0.000000</td>\n",
       "      <td>27.000000</td>\n",
       "      <td>1.580000</td>\n",
       "      <td>53.000000</td>\n",
       "      <td>0.070934</td>\n",
       "    </tr>\n",
       "    <tr>\n",
       "      <th>25%</th>\n",
       "      <td>470.250000</td>\n",
       "      <td>180.750000</td>\n",
       "      <td>3.250000</td>\n",
       "      <td>0.000000</td>\n",
       "      <td>0.030000</td>\n",
       "      <td>0.000000</td>\n",
       "      <td>0.001300</td>\n",
       "      <td>38.000000</td>\n",
       "      <td>1.715000</td>\n",
       "      <td>69.750000</td>\n",
       "      <td>0.159685</td>\n",
       "    </tr>\n",
       "    <tr>\n",
       "      <th>50%</th>\n",
       "      <td>496.000000</td>\n",
       "      <td>320.500000</td>\n",
       "      <td>178.000000</td>\n",
       "      <td>6.500000</td>\n",
       "      <td>14.200000</td>\n",
       "      <td>3.500000</td>\n",
       "      <td>0.210000</td>\n",
       "      <td>44.000000</td>\n",
       "      <td>1.770000</td>\n",
       "      <td>85.000000</td>\n",
       "      <td>0.336794</td>\n",
       "    </tr>\n",
       "    <tr>\n",
       "      <th>75%</th>\n",
       "      <td>511.000000</td>\n",
       "      <td>453.250000</td>\n",
       "      <td>323.500000</td>\n",
       "      <td>9.000000</td>\n",
       "      <td>34.750000</td>\n",
       "      <td>8.900000</td>\n",
       "      <td>0.427500</td>\n",
       "      <td>53.750000</td>\n",
       "      <td>1.797500</td>\n",
       "      <td>102.000000</td>\n",
       "      <td>0.521697</td>\n",
       "    </tr>\n",
       "    <tr>\n",
       "      <th>max</th>\n",
       "      <td>578.000000</td>\n",
       "      <td>535.000000</td>\n",
       "      <td>534.000000</td>\n",
       "      <td>10.000000</td>\n",
       "      <td>86.800000</td>\n",
       "      <td>57.100000</td>\n",
       "      <td>0.935000</td>\n",
       "      <td>63.000000</td>\n",
       "      <td>1.840000</td>\n",
       "      <td>135.000000</td>\n",
       "      <td>0.913830</td>\n",
       "    </tr>\n",
       "  </tbody>\n",
       "</table>\n",
       "</div>"
      ],
      "text/plain": [
       "           Length     non-apn       apnea      hours         AI         HI  \\\n",
       "count   70.000000   70.000000   70.000000  70.000000  70.000000  70.000000   \n",
       "mean   491.828571  305.171429  186.657143   5.085714  21.858000   6.189571   \n",
       "std     31.576441  156.571692  172.275385   3.899992  24.101227   9.423092   \n",
       "min    401.000000   11.000000    0.000000   0.000000   0.000000   0.000000   \n",
       "25%    470.250000  180.750000    3.250000   0.000000   0.030000   0.000000   \n",
       "50%    496.000000  320.500000  178.000000   6.500000  14.200000   3.500000   \n",
       "75%    511.000000  453.250000  323.500000   9.000000  34.750000   8.900000   \n",
       "max    578.000000  535.000000  534.000000  10.000000  86.800000  57.100000   \n",
       "\n",
       "             AHI        Age     height      weight        BMI  \n",
       "count  70.000000  70.000000  70.000000   70.000000  70.000000  \n",
       "mean    0.280476  45.142857   1.758429   86.757143   0.355273  \n",
       "std     0.275378  10.837784   0.055889   20.730455   0.209076  \n",
       "min     0.000000  27.000000   1.580000   53.000000   0.070934  \n",
       "25%     0.001300  38.000000   1.715000   69.750000   0.159685  \n",
       "50%     0.210000  44.000000   1.770000   85.000000   0.336794  \n",
       "75%     0.427500  53.750000   1.797500  102.000000   0.521697  \n",
       "max     0.935000  63.000000   1.840000  135.000000   0.913830  "
      ]
     },
     "execution_count": 16,
     "metadata": {},
     "output_type": "execute_result"
    }
   ],
   "source": [
    "scale_feature = 'BMI'\n",
    "\n",
    "#the minimum value with space for outliers\n",
    "MIN_BMI = 17\n",
    "\n",
    "#the maximum value with space for outliers\n",
    "MAX_BMI = 48\n",
    "\n",
    "#scale features\n",
    "data_frame[scale_feature] = [(X - MIN_BMI) / (MAX_BMI - MIN_BMI) for X in data_frame[scale_feature]]\n",
    "\n",
    "data_frame.describe()"
   ]
  },
  {
   "cell_type": "markdown",
   "metadata": {},
   "source": [
    "save data to csv"
   ]
  },
  {
   "cell_type": "code",
   "execution_count": null,
   "metadata": {},
   "outputs": [],
   "source": [
    "data_frame.to_csv('wrangled_data.csv', index=False)"
   ]
  },
  {
   "cell_type": "markdown",
   "metadata": {},
   "source": []
  }
 ],
 "metadata": {
  "kernelspec": {
   "display_name": "Python 3",
   "language": "python",
   "name": "python3"
  },
  "language_info": {
   "codemirror_mode": {
    "name": "ipython",
    "version": 3
   },
   "file_extension": ".py",
   "mimetype": "text/x-python",
   "name": "python",
   "nbconvert_exporter": "python",
   "pygments_lexer": "ipython3",
   "version": "3.12.1"
  }
 },
 "nbformat": 4,
 "nbformat_minor": 2
}
