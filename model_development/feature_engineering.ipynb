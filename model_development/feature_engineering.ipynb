{
 "cells": [
  {
   "cell_type": "markdown",
   "metadata": {},
   "source": [
    "# FEATURE ENGINEERING\n",
    "import dependencies"
   ]
  },
  {
   "cell_type": "code",
   "execution_count": 7,
   "metadata": {},
   "outputs": [],
   "source": [
    "import pandas as pd"
   ]
  },
  {
   "cell_type": "markdown",
   "metadata": {},
   "source": [
    "read data to variable"
   ]
  },
  {
   "cell_type": "code",
   "execution_count": 8,
   "metadata": {},
   "outputs": [],
   "source": [
    "data_frame = pd.read_csv('wrangled_data.csv')"
   ]
  },
  {
   "cell_type": "markdown",
   "metadata": {},
   "source": [
    "convert gender of M and F to value of 1 and -1"
   ]
  },
  {
   "cell_type": "code",
   "execution_count": 9,
   "metadata": {},
   "outputs": [
    {
     "name": "stdout",
     "output_type": "stream",
     "text": [
      "0   -1\n",
      "1   -1\n",
      "2   -1\n",
      "3   -1\n",
      "4   -1\n",
      "Name: Sex, dtype: int64\n"
     ]
    }
   ],
   "source": [
    "data_frame['Sex'] = data_frame['Sex'].apply(lambda gender: -1 if gender == 'M' else 1 if gender == 'F' else None)\n",
    "print(data_frame['Sex'].head())"
   ]
  },
  {
   "cell_type": "markdown",
   "metadata": {},
   "source": [
    "calculate risk and risk%"
   ]
  },
  {
   "cell_type": "code",
   "execution_count": 10,
   "metadata": {},
   "outputs": [
    {
     "name": "stdout",
     "output_type": "stream",
     "text": [
      "    Age       BMI     Risk%\n",
      "0    51  0.526004  0.648346\n",
      "1    38  0.646356  0.593613\n",
      "2    54  0.365957  0.477608\n",
      "3    52  0.755775  0.949825\n",
      "4    58  0.263896  0.369921\n",
      "..  ...       ...       ...\n",
      "65   29  0.414856  0.290766\n",
      "66   29  0.414856  0.290766\n",
      "67   28  0.095396  0.064556\n",
      "68   30  0.091654  0.066454\n",
      "69   31  0.156686  0.117393\n",
      "\n",
      "[70 rows x 3 columns]\n"
     ]
    }
   ],
   "source": [
    "data_frame['Risk'] = data_frame['BMI'] * data_frame['Age']\n",
    "\n",
    "data_frame['Risk%'] = (data_frame['Risk'] / data_frame['Risk'].max())\n",
    "\n",
    "print(data_frame[['Age', 'BMI', 'Risk%']])"
   ]
  },
  {
   "cell_type": "markdown",
   "metadata": {},
   "source": [
    "keep male data"
   ]
  },
  {
   "cell_type": "code",
   "execution_count": 11,
   "metadata": {},
   "outputs": [
    {
     "name": "stdout",
     "output_type": "stream",
     "text": [
      "    Age  Sex\n",
      "0    51   -1\n",
      "1    38   -1\n",
      "2    54   -1\n",
      "3    52   -1\n",
      "4    58   -1\n",
      "5    63   -1\n",
      "6    44   -1\n",
      "7    51   -1\n",
      "8    52   -1\n",
      "9    58   -1\n",
      "10   58   -1\n",
      "11   52   -1\n",
      "12   51   -1\n",
      "13   51   -1\n",
      "14   60   -1\n",
      "15   44   -1\n",
      "16   40   -1\n",
      "17   52   -1\n",
      "18   55   -1\n",
      "19   58   -1\n",
      "21   53   -1\n",
      "22   53   -1\n",
      "23   42   -1\n",
      "24   52   -1\n",
      "25   31   -1\n",
      "26   37   -1\n",
      "27   39   -1\n",
      "32   42   -1\n",
      "33   37   -1\n",
      "34   27   -1\n",
      "35   44   -1\n",
      "36   46   -1\n",
      "38   39   -1\n",
      "39   55   -1\n",
      "40   31   -1\n",
      "41   58   -1\n",
      "42   55   -1\n",
      "43   43   -1\n",
      "44   39   -1\n",
      "45   52   -1\n",
      "46   40   -1\n",
      "47   57   -1\n",
      "48   38   -1\n",
      "49   63   -1\n",
      "50   53   -1\n",
      "52   27   -1\n",
      "53   54   -1\n",
      "54   51   -1\n",
      "55   53   -1\n",
      "57   43   -1\n",
      "58   31   -1\n",
      "59   55   -1\n",
      "60   57   -1\n",
      "61   60   -1\n",
      "62   60   -1\n",
      "64   44   -1\n",
      "69   31   -1\n"
     ]
    }
   ],
   "source": [
    "data_frame = data_frame[data_frame['Sex'] == -1]\n",
    "\n",
    "print(data_frame[['Age', 'Sex']])"
   ]
  },
  {
   "cell_type": "markdown",
   "metadata": {},
   "source": [
    "save data as csv"
   ]
  },
  {
   "cell_type": "code",
   "execution_count": 12,
   "metadata": {},
   "outputs": [],
   "source": [
    "data_frame.to_csv('model_ready_data.csv', index=False)"
   ]
  }
 ],
 "metadata": {
  "kernelspec": {
   "display_name": "Python 3",
   "language": "python",
   "name": "python3"
  },
  "language_info": {
   "codemirror_mode": {
    "name": "ipython",
    "version": 3
   },
   "file_extension": ".py",
   "mimetype": "text/x-python",
   "name": "python",
   "nbconvert_exporter": "python",
   "pygments_lexer": "ipython3",
   "version": "3.12.1"
  }
 },
 "nbformat": 4,
 "nbformat_minor": 2
}
